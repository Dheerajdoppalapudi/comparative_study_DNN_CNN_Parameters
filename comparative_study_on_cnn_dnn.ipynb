{
 "cells": [
  {
   "cell_type": "code",
   "execution_count": 1,
   "metadata": {
    "id": "GbZyNxjzK4HR"
   },
   "outputs": [],
   "source": [
    "import tensorflow as tf\n",
    "import numpy as np\n",
    "import pandas as pd\n",
    "import random\n",
    "import matplotlib.pyplot as plt"
   ]
  },
  {
   "cell_type": "code",
   "execution_count": 2,
   "metadata": {
    "colab": {
     "base_uri": "https://localhost:8080/",
     "height": 299
    },
    "id": "xK9ViPTMxBe3",
    "outputId": "36d4aa31-5a90-4cca-fcfa-7a8084fae28c"
   },
   "outputs": [
    {
     "name": "stdout",
     "output_type": "stream",
     "text": [
      "AxesImage(54,36;334.8x217.44)\n",
      "9\n"
     ]
    },
    {
     "data": {
      "image/png": "[encoded data removed]",
      "text/plain": [
       "<Figure size 432x288 with 1 Axes>"
      ]
     },
     "metadata": {
      "needs_background": "light"
     },
     "output_type": "display_data"
    }
   ],
   "source": [
    "# Improving Computer Vision Accuracy using Convolutions\n",
    "mnist = tf.keras.datasets.fashion_mnist\n",
    "(training_images, training_labels), (test_images, test_labels) = mnist.load_data()\n",
    "print(plt.imshow(training_images[0]))\n",
    "print(training_labels[0])"
   ]
  },
  {
   "cell_type": "code",
   "execution_count": 3,
   "metadata": {
    "colab": {
     "base_uri": "https://localhost:8080/"
    },
    "id": "TO4hI_3b0QDd",
    "outputId": "07c4404a-3863-48c4-fac8-e57654de2291"
   },
   "outputs": [
    {
     "name": "stdout",
     "output_type": "stream",
     "text": [
      "training_images (60000, 28, 28)\n",
      "training_labels (60000,)\n",
      "test_images (10000, 28, 28)\n",
      "test_labels (10000,)\n"
     ]
    }
   ],
   "source": [
    "training_images=training_images / 255.0\n",
    "test_images=test_images / 255.0\n",
    "print(\"training_images\", training_images.shape)\n",
    "print(\"training_labels\", training_labels.shape)\n",
    "print(\"test_images\", test_images.shape)\n",
    "print(\"test_labels\", test_labels.shape)"
   ]
  },
  {
   "cell_type": "code",
   "execution_count": 4,
   "metadata": {
    "colab": {
     "base_uri": "https://localhost:8080/"
    },
    "id": "81EE6DGExWYv",
    "outputId": "922083c1-65bc-497f-9ce4-0edd5ce75d71"
   },
   "outputs": [
    {
     "name": "stdout",
     "output_type": "stream",
     "text": [
      "Model: \"sequential\"\n",
      "_________________________________________________________________\n",
      "Layer (type)                 Output Shape              Param #   \n",
      "=================================================================\n",
      "flatten (Flatten)            (None, 784)               0         \n",
      "_________________________________________________________________\n",
      "dense (Dense)                (None, 128)               100480    \n",
      "_________________________________________________________________\n",
      "dense_1 (Dense)              (None, 10)                1290      \n",
      "=================================================================\n",
      "Total params: 101,770\n",
      "Trainable params: 101,770\n",
      "Non-trainable params: 0\n",
      "_________________________________________________________________\n"
     ]
    }
   ],
   "source": [
    "# model 1 without using convolutions.\n",
    "model1 = tf.keras.models.Sequential([\n",
    "  tf.keras.layers.Flatten(input_shape=(1,28,28)),\n",
    "  tf.keras.layers.Dense(128, activation=tf.nn.relu),\n",
    "  tf.keras.layers.Dense(10, activation=tf.nn.softmax)\n",
    "])\n",
    "model1.summary()"
   ]
  },
  {
   "cell_type": "code",
   "execution_count": 5,
   "metadata": {
    "colab": {
     "base_uri": "https://localhost:8080/"
    },
    "id": "tYI8UGVQxgMf",
    "outputId": "1a6141b3-5c20-40ee-8602-1c70940e8ef8"
   },
   "outputs": [
    {
     "name": "stdout",
     "output_type": "stream",
     "text": [
      "Epoch 1/10\n",
      "WARNING:tensorflow:Model was constructed with shape (None, 1, 28, 28) for input KerasTensor(type_spec=TensorSpec(shape=(None, 1, 28, 28), dtype=tf.float32, name='flatten_input'), name='flatten_input', description=\"created by layer 'flatten_input'\"), but it was called on an input with incompatible shape (32, 28, 28).\n",
      "WARNING:tensorflow:Model was constructed with shape (None, 1, 28, 28) for input KerasTensor(type_spec=TensorSpec(shape=(None, 1, 28, 28), dtype=tf.float32, name='flatten_input'), name='flatten_input', description=\"created by layer 'flatten_input'\"), but it was called on an input with incompatible shape (32, 28, 28).\n",
      "1852/1875 [============================>.] - ETA: 0s - loss: 0.4981 - accuracy: 0.8246WARNING:tensorflow:Model was constructed with shape (None, 1, 28, 28) for input KerasTensor(type_spec=TensorSpec(shape=(None, 1, 28, 28), dtype=tf.float32, name='flatten_input'), name='flatten_input', description=\"created by layer 'flatten_input'\"), but it was called on an input with incompatible shape (None, 28, 28).\n",
      "1875/1875 [==============================] - 5s 2ms/step - loss: 0.4970 - accuracy: 0.8250 - val_loss: 0.4278 - val_accuracy: 0.8442\n",
      "Epoch 2/10\n",
      "1875/1875 [==============================] - 4s 2ms/step - loss: 0.3759 - accuracy: 0.8648 - val_loss: 0.3936 - val_accuracy: 0.8587\n",
      "Epoch 3/10\n",
      "1875/1875 [==============================] - 4s 2ms/step - loss: 0.3368 - accuracy: 0.8767 - val_loss: 0.3635 - val_accuracy: 0.8683\n",
      "Epoch 4/10\n",
      "1875/1875 [==============================] - 4s 2ms/step - loss: 0.3115 - accuracy: 0.8854 - val_loss: 0.3460 - val_accuracy: 0.8749\n",
      "Epoch 5/10\n",
      "1875/1875 [==============================] - 4s 2ms/step - loss: 0.2951 - accuracy: 0.8910 - val_loss: 0.3579 - val_accuracy: 0.8665\n",
      "Epoch 6/10\n",
      "1875/1875 [==============================] - 4s 2ms/step - loss: 0.2779 - accuracy: 0.8964 - val_loss: 0.3330 - val_accuracy: 0.8837\n",
      "Epoch 7/10\n",
      "1875/1875 [==============================] - 4s 2ms/step - loss: 0.2647 - accuracy: 0.9015 - val_loss: 0.3374 - val_accuracy: 0.8803\n",
      "Epoch 8/10\n",
      "1875/1875 [==============================] - 4s 2ms/step - loss: 0.2560 - accuracy: 0.9043 - val_loss: 0.3527 - val_accuracy: 0.8725\n",
      "Epoch 9/10\n",
      "1875/1875 [==============================] - 4s 2ms/step - loss: 0.2455 - accuracy: 0.9081 - val_loss: 0.3376 - val_accuracy: 0.8815\n",
      "Epoch 10/10\n",
      "1875/1875 [==============================] - 4s 2ms/step - loss: 0.2374 - accuracy: 0.9105 - val_loss: 0.3395 - val_accuracy: 0.8827\n"
     ]
    }
   ],
   "source": [
    "model1.compile(optimizer='adam', loss='sparse_categorical_crossentropy', metrics=['accuracy'])\n",
    "history = model1.fit(training_images, training_labels, epochs=10, validation_data=(test_images, test_labels))"
   ]
  },
  {
   "cell_type": "code",
   "execution_count": 6,
   "metadata": {},
   "outputs": [
    {
     "data": {
      "image/png": "[encoded data removed]",
      "text/plain": [
       "<Figure size 432x288 with 1 Axes>"
      ]
     },
     "metadata": {
      "needs_background": "light"
     },
     "output_type": "display_data"
    },
    {
     "data": {
      "image/png": "[encoded data removed]",
      "text/plain": [
       "<Figure size 432x288 with 1 Axes>"
      ]
     },
     "metadata": {
      "needs_background": "light"
     },
     "output_type": "display_data"
    }
   ],
   "source": [
    "import matplotlib.pyplot as plt\n",
    "\n",
    "def plot_graphs(history, string):\n",
    "  plt.plot(history.history[string])\n",
    "  plt.plot(history.history['val_'+string])\n",
    "  plt.xlabel(\"Epochs\")\n",
    "  plt.ylabel(string)\n",
    "  plt.legend([string, 'val_'+string])\n",
    "  plt.show()\n",
    "  \n",
    "plot_graphs(history, \"accuracy\")\n",
    "plot_graphs(history, \"loss\")"
   ]
  },
  {
   "cell_type": "code",
   "execution_count": 7,
   "metadata": {
    "colab": {
     "base_uri": "https://localhost:8080/"
    },
    "id": "QHHa3x88xobu",
    "outputId": "61d2a7ff-6a24-4e4c-f96f-ff445ae218ef"
   },
   "outputs": [
    {
     "name": "stdout",
     "output_type": "stream",
     "text": [
      "313/313 [==============================] - 0s 1ms/step - loss: 0.3395 - accuracy: 0.8827\n",
      "test loss 0.33945944905281067\n",
      "test aaccuracy 0.8827000260353088\n"
     ]
    }
   ],
   "source": [
    "m1_loss, m1_acc = model1.evaluate(test_images, test_labels)\n",
    "print(\"test loss\", m1_loss)\n",
    "print(\"test aaccuracy\", m1_acc)"
   ]
  },
  {
   "cell_type": "code",
   "execution_count": 8,
   "metadata": {
    "colab": {
     "base_uri": "https://localhost:8080/",
     "height": 316
    },
    "id": "RKpBMbsD0h27",
    "outputId": "d3940d86-9240-4a8d-ce0a-fdb459eaf22e"
   },
   "outputs": [
    {
     "name": "stdout",
     "output_type": "stream",
     "text": [
      "original value:  1\n",
      "predicted value:  1\n",
      "AxesImage(54,36;334.8x217.44)\n"
     ]
    },
    {
     "data": {
      "image/png": "[encoded data removed]",
      "text/plain": [
       "<Figure size 432x288 with 1 Axes>"
      ]
     },
     "metadata": {
      "needs_background": "light"
     },
     "output_type": "display_data"
    }
   ],
   "source": [
    "val = random.randint(0,10000)\n",
    "result = model1.predict(test_images[val].reshape(-1, 1, 28, 28))\n",
    "result_val = np.where(result == np.amax(result))\n",
    "print(\"original value: \", test_labels[val])\n",
    "print(\"predicted value: \", result_val[1][0])\n",
    "print(plt.imshow(test_images[val]))"
   ]
  },
  {
   "cell_type": "code",
   "execution_count": 9,
   "metadata": {
    "colab": {
     "base_uri": "https://localhost:8080/",
     "height": 353
    },
    "id": "4D7Z1BFr306T",
    "outputId": "bba42fce-58a7-4a47-e867-befb81205b82"
   },
   "outputs": [
    {
     "name": "stdout",
     "output_type": "stream",
     "text": [
      "original value:  5\n",
      "predicted value:  5\n",
      "AxesImage(54,36;334.8x217.44)\n"
     ]
    },
    {
     "data": {
      "image/png": "[encoded data removed]",
      "text/plain": [
       "<Figure size 432x288 with 1 Axes>"
      ]
     },
     "metadata": {
      "needs_background": "light"
     },
     "output_type": "display_data"
    }
   ],
   "source": [
    "val = random.randint(0,10000)\n",
    "result = model1.predict(test_images[val].reshape(-1,1, 28, 28))\n",
    "result_val = np.where(result == np.amax(result))\n",
    "print(\"original value: \", test_labels[val])\n",
    "print(\"predicted value: \", result_val[1][0])\n",
    "print(plt.imshow(test_images[val]))"
   ]
  },
  {
   "cell_type": "markdown",
   "metadata": {
    "id": "Eg6C2CGQyK2r"
   },
   "source": [
    "## **MODEL 2 using convolutions(conv model)**"
   ]
  },
  {
   "cell_type": "code",
   "execution_count": 10,
   "metadata": {
    "id": "RfTdpVyNyRpy"
   },
   "outputs": [],
   "source": [
    "mnist = tf.keras.datasets.fashion_mnist\n",
    "(training_images, training_labels), (test_images, test_labels) = mnist.load_data()\n",
    "(ti, tl), (tei, tel) = mnist.load_data()\n",
    "training_images=training_images.reshape(60000, 28, 28, 1)\n",
    "training_images=training_images / 255.0\n",
    "test_images = test_images.reshape(10000, 28, 28, 1)\n",
    "test_images=test_images/255.0"
   ]
  },
  {
   "cell_type": "code",
   "execution_count": 11,
   "metadata": {
    "id": "wggdAinYyUI_"
   },
   "outputs": [],
   "source": [
    "model2 = tf.keras.models.Sequential([\n",
    "  tf.keras.layers.Conv2D(64, (3,3), activation='relu', input_shape=(28, 28, 1)),\n",
    "  tf.keras.layers.MaxPooling2D(2, 2),\n",
    "  tf.keras.layers.Conv2D(64, (3,3), activation='relu'),\n",
    "  tf.keras.layers.MaxPooling2D(2,2),\n",
    "  tf.keras.layers.Flatten(),\n",
    "  tf.keras.layers.Dense(128, activation='relu'),\n",
    "  tf.keras.layers.Dense(10, activation='softmax')\n",
    "])"
   ]
  },
  {
   "cell_type": "code",
   "execution_count": 12,
   "metadata": {
    "colab": {
     "base_uri": "https://localhost:8080/"
    },
    "id": "dHxAuLIbyYKG",
    "outputId": "e201af02-2c38-44fb-d492-b6c9301b91f2"
   },
   "outputs": [
    {
     "name": "stdout",
     "output_type": "stream",
     "text": [
      "Model: \"sequential_1\"\n",
      "_________________________________________________________________\n",
      "Layer (type)                 Output Shape              Param #   \n",
      "=================================================================\n",
      "conv2d (Conv2D)              (None, 26, 26, 64)        640       \n",
      "_________________________________________________________________\n",
      "max_pooling2d (MaxPooling2D) (None, 13, 13, 64)        0         \n",
      "_________________________________________________________________\n",
      "conv2d_1 (Conv2D)            (None, 11, 11, 64)        36928     \n",
      "_________________________________________________________________\n",
      "max_pooling2d_1 (MaxPooling2 (None, 5, 5, 64)          0         \n",
      "_________________________________________________________________\n",
      "flatten_1 (Flatten)          (None, 1600)              0         \n",
      "_________________________________________________________________\n",
      "dense_2 (Dense)              (None, 128)               204928    \n",
      "_________________________________________________________________\n",
      "dense_3 (Dense)              (None, 10)                1290      \n",
      "=================================================================\n",
      "Total params: 243,786\n",
      "Trainable params: 243,786\n",
      "Non-trainable params: 0\n",
      "_________________________________________________________________\n"
     ]
    }
   ],
   "source": [
    "model2.summary()"
   ]
  },
  {
   "cell_type": "code",
   "execution_count": 13,
   "metadata": {
    "colab": {
     "base_uri": "https://localhost:8080/"
    },
    "id": "kT2CgoGayczJ",
    "outputId": "ba8ff8cd-f1cc-47a3-c9bb-6bef7cae69b7"
   },
   "outputs": [
    {
     "name": "stdout",
     "output_type": "stream",
     "text": [
      "Epoch 1/10\n",
      "1875/1875 [==============================] - 60s 32ms/step - loss: 0.4353 - accuracy: 0.8422 - val_loss: 0.3585 - val_accuracy: 0.8740\n",
      "Epoch 2/10\n",
      "1875/1875 [==============================] - 58s 31ms/step - loss: 0.2937 - accuracy: 0.8923 - val_loss: 0.3067 - val_accuracy: 0.8845\n",
      "Epoch 3/10\n",
      "1875/1875 [==============================] - 58s 31ms/step - loss: 0.2479 - accuracy: 0.9079 - val_loss: 0.2759 - val_accuracy: 0.9003\n",
      "Epoch 4/10\n",
      "1875/1875 [==============================] - 59s 31ms/step - loss: 0.2163 - accuracy: 0.9185 - val_loss: 0.2580 - val_accuracy: 0.9033\n",
      "Epoch 5/10\n",
      "1875/1875 [==============================] - 61s 32ms/step - loss: 0.1881 - accuracy: 0.9296 - val_loss: 0.2599 - val_accuracy: 0.9048\n",
      "Epoch 6/10\n",
      "1875/1875 [==============================] - 60s 32ms/step - loss: 0.1643 - accuracy: 0.9372 - val_loss: 0.2576 - val_accuracy: 0.9095\n",
      "Epoch 7/10\n",
      "1875/1875 [==============================] - 60s 32ms/step - loss: 0.1460 - accuracy: 0.9445 - val_loss: 0.2562 - val_accuracy: 0.9114\n",
      "Epoch 8/10\n",
      "1875/1875 [==============================] - 65s 35ms/step - loss: 0.1264 - accuracy: 0.9524 - val_loss: 0.2619 - val_accuracy: 0.9133\n",
      "Epoch 9/10\n",
      "1875/1875 [==============================] - 63s 34ms/step - loss: 0.1108 - accuracy: 0.9578 - val_loss: 0.2858 - val_accuracy: 0.9084\n",
      "Epoch 10/10\n",
      "1875/1875 [==============================] - 61s 33ms/step - loss: 0.1004 - accuracy: 0.9615 - val_loss: 0.2976 - val_accuracy: 0.9120\n"
     ]
    }
   ],
   "source": [
    "model2.compile(optimizer='adam', loss='sparse_categorical_crossentropy', metrics=['accuracy'])\n",
    "history = model2.fit(training_images, training_labels, epochs=10, validation_data=(test_images, test_labels))"
   ]
  },
  {
   "cell_type": "code",
   "execution_count": 14,
   "metadata": {},
   "outputs": [
    {
     "data": {
      "image/png": "[encoded data removed]",
      "text/plain": [
       "<Figure size 432x288 with 1 Axes>"
      ]
     },
     "metadata": {
      "needs_background": "light"
     },
     "output_type": "display_data"
    },
    {
     "data": {
      "image/png": "[encoded data removed]",
      "text/plain": [
       "<Figure size 432x288 with 1 Axes>"
      ]
     },
     "metadata": {
      "needs_background": "light"
     },
     "output_type": "display_data"
    }
   ],
   "source": [
    "plot_graphs(history, \"accuracy\")\n",
    "plot_graphs(history, \"loss\")"
   ]
  },
  {
   "cell_type": "code",
   "execution_count": 15,
   "metadata": {
    "colab": {
     "base_uri": "https://localhost:8080/"
    },
    "id": "vYTcrtbpzN9Z",
    "outputId": "92968219-038f-478e-8eb5-6694f396de9d"
   },
   "outputs": [
    {
     "name": "stdout",
     "output_type": "stream",
     "text": [
      "313/313 [==============================] - 3s 10ms/step - loss: 0.2976 - accuracy: 0.9120\n",
      "test loss 0.2975931763648987\n",
      "test aaccuracy 0.9120000004768372\n"
     ]
    }
   ],
   "source": [
    "m2_loss, m2_acc = model2.evaluate(test_images, test_labels)\n",
    "print(\"test loss\", m2_loss)\n",
    "print(\"test aaccuracy\", m2_acc)"
   ]
  },
  {
   "cell_type": "code",
   "execution_count": 16,
   "metadata": {
    "colab": {
     "base_uri": "https://localhost:8080/",
     "height": 353
    },
    "id": "tpYQYKDz3HI6",
    "outputId": "40f775bf-7d00-40b6-dcfb-7ad68ede4fe5"
   },
   "outputs": [
    {
     "name": "stdout",
     "output_type": "stream",
     "text": [
      "original value:  4\n",
      "predicted value:  4\n",
      "AxesImage(54,36;334.8x217.44)\n"
     ]
    },
    {
     "data": {
      "image/png": "[encoded data removed]",
      "text/plain": [
       "<Figure size 432x288 with 1 Axes>"
      ]
     },
     "metadata": {
      "needs_background": "light"
     },
     "output_type": "display_data"
    }
   ],
   "source": [
    "val = random.randint(0,10000)\n",
    "result = model2.predict(test_images[val].reshape(1, 28, 28, 1))\n",
    "result_val = np.where(result == np.amax(result))\n",
    "print(\"original value: \", test_labels[val])\n",
    "print(\"predicted value: \", result_val[1][0])\n",
    "print(plt.imshow(tei[val]))"
   ]
  },
  {
   "cell_type": "code",
   "execution_count": 17,
   "metadata": {
    "colab": {
     "base_uri": "https://localhost:8080/",
     "height": 316
    },
    "id": "FxBWFoH83REj",
    "outputId": "6a58cd87-326a-4556-a93e-4ded106a38ec"
   },
   "outputs": [
    {
     "name": "stdout",
     "output_type": "stream",
     "text": [
      "original value:  5\n",
      "predicted value:  5\n",
      "AxesImage(54,36;334.8x217.44)\n"
     ]
    },
    {
     "data": {
      "image/png": "[encoded data removed]",
      "text/plain": [
       "<Figure size 432x288 with 1 Axes>"
      ]
     },
     "metadata": {
      "needs_background": "light"
     },
     "output_type": "display_data"
    }
   ],
   "source": [
    "val = random.randint(0,10000)\n",
    "result = model2.predict(test_images[val].reshape(1, 28, 28, 1))\n",
    "result_val = np.where(result == np.amax(result))\n",
    "print(\"original value: \", test_labels[val])\n",
    "print(\"predicted value: \", result_val[1][0])\n",
    "print(plt.imshow(tei[val]))"
   ]
  },
  {
   "cell_type": "markdown",
   "metadata": {
    "id": "N7FF36-i9ZWE"
   },
   "source": [
    "# **Model 3 - tweaking model 2 parameters for better accuracy**"
   ]
  },
  {
   "cell_type": "code",
   "execution_count": 18,
   "metadata": {
    "id": "yJAHR1xv3yWx"
   },
   "outputs": [],
   "source": [
    "mnist = tf.keras.datasets.mnist\n",
    "(training_images, training_labels), (test_images, test_labels) = mnist.load_data()\n",
    "training_images=training_images.reshape(60000, 28, 28, 1)\n",
    "training_images=training_images / 255.0\n",
    "test_images = test_images.reshape(10000, 28, 28, 1)\n",
    "test_images=test_images/255.0"
   ]
  },
  {
   "cell_type": "code",
   "execution_count": 19,
   "metadata": {
    "id": "cRQIl58b9jB_"
   },
   "outputs": [],
   "source": [
    "model3 = tf.keras.models.Sequential([\n",
    "  tf.keras.layers.Conv2D(32, (3,3), activation='relu', input_shape=(28, 28, 1)),\n",
    "  tf.keras.layers.MaxPooling2D(2, 2),\n",
    "  tf.keras.layers.Flatten(),\n",
    "  tf.keras.layers.Dense(128, activation='relu'),\n",
    "  tf.keras.layers.Dense(10, activation='softmax')\n",
    "])"
   ]
  },
  {
   "cell_type": "code",
   "execution_count": 20,
   "metadata": {
    "colab": {
     "base_uri": "https://localhost:8080/"
    },
    "id": "SCYzMMxxB2TH",
    "outputId": "115e4f56-c928-4eef-c065-a79e1b09a2f5"
   },
   "outputs": [
    {
     "name": "stdout",
     "output_type": "stream",
     "text": [
      "Model: \"sequential_2\"\n",
      "_________________________________________________________________\n",
      "Layer (type)                 Output Shape              Param #   \n",
      "=================================================================\n",
      "conv2d_2 (Conv2D)            (None, 26, 26, 32)        320       \n",
      "_________________________________________________________________\n",
      "max_pooling2d_2 (MaxPooling2 (None, 13, 13, 32)        0         \n",
      "_________________________________________________________________\n",
      "flatten_2 (Flatten)          (None, 5408)              0         \n",
      "_________________________________________________________________\n",
      "dense_4 (Dense)              (None, 128)               692352    \n",
      "_________________________________________________________________\n",
      "dense_5 (Dense)              (None, 10)                1290      \n",
      "=================================================================\n",
      "Total params: 693,962\n",
      "Trainable params: 693,962\n",
      "Non-trainable params: 0\n",
      "_________________________________________________________________\n"
     ]
    }
   ],
   "source": [
    "model3.summary()"
   ]
  },
  {
   "cell_type": "code",
   "execution_count": 21,
   "metadata": {
    "colab": {
     "base_uri": "https://localhost:8080/"
    },
    "id": "TTf4oNoK9lmo",
    "outputId": "834227f0-555f-475b-820f-cfab486de788"
   },
   "outputs": [
    {
     "name": "stdout",
     "output_type": "stream",
     "text": [
      "Epoch 1/10\n",
      "1875/1875 [==============================] - 37s 19ms/step - loss: 0.1556 - accuracy: 0.9541 - val_loss: 0.0651 - val_accuracy: 0.9779\n",
      "Epoch 2/10\n",
      "1875/1875 [==============================] - 35s 19ms/step - loss: 0.0526 - accuracy: 0.9840 - val_loss: 0.0489 - val_accuracy: 0.9837\n",
      "Epoch 3/10\n",
      "1875/1875 [==============================] - 36s 19ms/step - loss: 0.0342 - accuracy: 0.9896 - val_loss: 0.0457 - val_accuracy: 0.9849\n",
      "Epoch 4/10\n",
      "1875/1875 [==============================] - 33s 17ms/step - loss: 0.0223 - accuracy: 0.9931 - val_loss: 0.0480 - val_accuracy: 0.9847\n",
      "Epoch 5/10\n",
      "1875/1875 [==============================] - 33s 18ms/step - loss: 0.0151 - accuracy: 0.9954 - val_loss: 0.0561 - val_accuracy: 0.9847\n",
      "Epoch 6/10\n",
      "1875/1875 [==============================] - 34s 18ms/step - loss: 0.0118 - accuracy: 0.9962 - val_loss: 0.0532 - val_accuracy: 0.9859\n",
      "Epoch 7/10\n",
      "1875/1875 [==============================] - 33s 17ms/step - loss: 0.0084 - accuracy: 0.9970 - val_loss: 0.0486 - val_accuracy: 0.9869\n",
      "Epoch 8/10\n",
      "1875/1875 [==============================] - 36s 19ms/step - loss: 0.0071 - accuracy: 0.9976 - val_loss: 0.0501 - val_accuracy: 0.9872\n",
      "Epoch 9/10\n",
      "1875/1875 [==============================] - 34s 18ms/step - loss: 0.0058 - accuracy: 0.9980 - val_loss: 0.0577 - val_accuracy: 0.9857\n",
      "Epoch 10/10\n",
      "1875/1875 [==============================] - 33s 18ms/step - loss: 0.0048 - accuracy: 0.9984 - val_loss: 0.0512 - val_accuracy: 0.9877\n"
     ]
    }
   ],
   "source": [
    "model3.compile(optimizer='adam', loss='sparse_categorical_crossentropy', metrics=['accuracy'])\n",
    "history = model3.fit(training_images, training_labels, epochs=10, validation_data=(test_images, test_labels))"
   ]
  },
  {
   "cell_type": "code",
   "execution_count": 22,
   "metadata": {},
   "outputs": [
    {
     "data": {
      "image/png": "[encoded data removed]",
      "text/plain": [
       "<Figure size 432x288 with 1 Axes>"
      ]
     },
     "metadata": {
      "needs_background": "light"
     },
     "output_type": "display_data"
    },
    {
     "data": {
      "image/png": "[encoded data removed]",
      "text/plain": [
       "<Figure size 432x288 with 1 Axes>"
      ]
     },
     "metadata": {
      "needs_background": "light"
     },
     "output_type": "display_data"
    }
   ],
   "source": [
    "plot_graphs(history, \"accuracy\")\n",
    "plot_graphs(history, \"loss\")"
   ]
  },
  {
   "cell_type": "code",
   "execution_count": 23,
   "metadata": {
    "colab": {
     "base_uri": "https://localhost:8080/"
    },
    "id": "hIfyRy2l9oTD",
    "outputId": "32397fa6-cbd9-4c0f-c509-a4ae495475ff"
   },
   "outputs": [
    {
     "name": "stdout",
     "output_type": "stream",
     "text": [
      "313/313 [==============================] - 2s 5ms/step - loss: 0.0512 - accuracy: 0.9877\n",
      "test loss 0.05117349699139595\n",
      "test acc 0.9876999855041504\n"
     ]
    }
   ],
   "source": [
    "m3_loss, m3_acc = model3.evaluate(test_images, test_labels)\n",
    "print(\"test loss\",m3_loss)\n",
    "print(\"test acc\", m3_acc)"
   ]
  },
  {
   "cell_type": "code",
   "execution_count": 24,
   "metadata": {
    "colab": {
     "base_uri": "https://localhost:8080/",
     "height": 316
    },
    "id": "00P422QMARZ8",
    "outputId": "ff8d0e50-5697-487d-ef81-2c017f2ace99"
   },
   "outputs": [
    {
     "name": "stdout",
     "output_type": "stream",
     "text": [
      "original value:  8\n",
      "predicted value:  8\n",
      "AxesImage(54,36;334.8x217.44)\n"
     ]
    },
    {
     "data": {
      "image/png": "[encoded data removed]",
      "text/plain": [
       "<Figure size 432x288 with 1 Axes>"
      ]
     },
     "metadata": {
      "needs_background": "light"
     },
     "output_type": "display_data"
    }
   ],
   "source": [
    "val = random.randint(0,10000)\n",
    "result = model3.predict(test_images[val].reshape(1, 28, 28, 1))\n",
    "result_val = np.where(result == np.amax(result))\n",
    "print(\"original value: \", test_labels[val])\n",
    "print(\"predicted value: \", result_val[1][0])\n",
    "print(plt.imshow(tei[val]))"
   ]
  },
  {
   "cell_type": "code",
   "execution_count": 25,
   "metadata": {
    "colab": {
     "base_uri": "https://localhost:8080/",
     "height": 316
    },
    "id": "rOgt1iDrAVLl",
    "outputId": "edb6003f-1668-4efd-e182-71e1bf647eaf"
   },
   "outputs": [
    {
     "name": "stdout",
     "output_type": "stream",
     "text": [
      "original value:  7\n",
      "predicted value:  7\n",
      "AxesImage(54,36;334.8x217.44)\n"
     ]
    },
    {
     "data": {
      "image/png": "[encoded data removed]",
      "text/plain": [
       "<Figure size 432x288 with 1 Axes>"
      ]
     },
     "metadata": {
      "needs_background": "light"
     },
     "output_type": "display_data"
    }
   ],
   "source": [
    "val = random.randint(0,10000)\n",
    "result = model3.predict(test_images[val].reshape(1, 28, 28, 1))\n",
    "result_val = np.where(result == np.amax(result))\n",
    "print(\"original value: \", test_labels[val])\n",
    "print(\"predicted value: \", result_val[1][0])\n",
    "print(plt.imshow(tei[val]))"
   ]
  },
  {
   "cell_type": "markdown",
   "metadata": {
    "id": "1mk8Ql4s_-3_"
   },
   "source": [
    "**Comparing all three models\n",
    "**"
   ]
  },
  {
   "cell_type": "code",
   "execution_count": 26,
   "metadata": {
    "colab": {
     "base_uri": "https://localhost:8080/"
    },
    "id": "d0qVJ4gs91k1",
    "outputId": "eaf7c7b4-3529-48ad-b785-f1f07df5cbd1"
   },
   "outputs": [
    {
     "name": "stdout",
     "output_type": "stream",
     "text": [
      "model 1 loss:  0.33945944905281067\n",
      "model 2 loss:  0.2975931763648987\n",
      "model 3 loss:  0.05117349699139595\n",
      "model 1 acc:  0.8827000260353088\n",
      "model 2 acc:  0.9120000004768372\n",
      "model 3 acc:  0.9876999855041504\n"
     ]
    }
   ],
   "source": [
    "print(\"model 1 loss: \",m1_loss)\n",
    "print(\"model 2 loss: \", m2_loss)\n",
    "print(\"model 3 loss: \", m3_loss)\n",
    "print(\"model 1 acc: \", m1_acc)\n",
    "print(\"model 2 acc: \", m2_acc)\n",
    "print(\"model 3 acc: \", m3_acc)"
   ]
  },
  {
   "cell_type": "code",
   "execution_count": null,
   "metadata": {
    "id": "V6kDU6A4CCUv"
   },
   "outputs": [],
   "source": []
  },
  {
   "cell_type": "code",
   "execution_count": null,
   "metadata": {},
   "outputs": [],
   "source": []
  }
 ],
 "metadata": {
  "accelerator": "GPU",
  "colab": {
   "collapsed_sections": [],
   "name": "Untitled5.ipynb",
   "provenance": []
  },
  "kernelspec": {
   "display_name": "Python 3",
   "language": "python",
   "name": "python3"
  },
  "language_info": {
   "codemirror_mode": {
    "name": "ipython",
    "version": 3
   },
   "file_extension": ".py",
   "mimetype": "text/x-python",
   "name": "python",
   "nbconvert_exporter": "python",
   "pygments_lexer": "ipython3",
   "version": "3.8.3"
  }
 },
 "nbformat": 4,
 "nbformat_minor": 1
}
